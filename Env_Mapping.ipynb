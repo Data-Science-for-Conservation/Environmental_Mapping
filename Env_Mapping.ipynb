{
 "cells": [
  {
   "cell_type": "markdown",
   "id": "1103fcbd",
   "metadata": {},
   "source": [
    "# Environmental Mapping Playground"
   ]
  },
  {
   "cell_type": "code",
   "execution_count": 1,
   "id": "3d62f236",
   "metadata": {},
   "outputs": [],
   "source": [
    "import geemap"
   ]
  },
  {
   "cell_type": "code",
   "execution_count": 20,
   "id": "ec47c026",
   "metadata": {},
   "outputs": [],
   "source": [
    "nh_center = [43.78699687528447, -71.51658744025995]\n",
    "nh_zoom = 8"
   ]
  },
  {
   "cell_type": "code",
   "execution_count": 21,
   "id": "aefcbcaf",
   "metadata": {},
   "outputs": [
    {
     "data": {
      "application/vnd.jupyter.widget-view+json": {
       "model_id": "e3f20f11aee7469f99c2d00aa2b4d3a3",
       "version_major": 2,
       "version_minor": 0
      },
      "text/plain": [
       "Map(center=[43.78699687528447, -71.51658744025995], controls=(WidgetControl(options=['position', 'transparent_…"
      ]
     },
     "metadata": {},
     "output_type": "display_data"
    }
   ],
   "source": [
    "m = geemap.Map(center=nh_center, zoom=nh_zoom)\n",
    "m.add_basemap(\"HYBRID\")\n",
    "hydro_url = \"https://basemap.nationalmap.gov/arcgis/services/USGSHydroCached/MapServer/WMSServer?\"\n",
    "m.add_wms_layer(url=hydro_url,\n",
    "                layers=\"0\",  # Find all options in XML\n",
    "                name=\"USGS Hydro\",\n",
    "                format=\"image/png\",\n",
    "                shown=True)\n",
    "m"
   ]
  },
  {
   "cell_type": "code",
   "execution_count": 24,
   "id": "9aa7970f",
   "metadata": {
    "scrolled": false
   },
   "outputs": [
    {
     "data": {
      "application/vnd.jupyter.widget-view+json": {
       "model_id": "665cf38757ae4720aa341a1ba25fa9a2",
       "version_major": 2,
       "version_minor": 0
      },
      "text/plain": [
       "Map(center=[43.78699687528447, -71.51658744025995], controls=(WidgetControl(options=['position', 'transparent_…"
      ]
     },
     "metadata": {},
     "output_type": "display_data"
    }
   ],
   "source": [
    "m2 = geemap.Map(center=nh_center, zoom=nh_zoom)\n",
    "# m2.basemap_demo()\n",
    "m2.add_basemap(\"HYBRID\")\n",
    "m2.add_basemap(\"NLCD 2016 CONUS Land Cover\")\n",
    "m2"
   ]
  },
  {
   "cell_type": "code",
   "execution_count": null,
   "id": "a5e02dac",
   "metadata": {},
   "outputs": [],
   "source": []
  },
  {
   "cell_type": "code",
   "execution_count": null,
   "id": "df518cdc",
   "metadata": {},
   "outputs": [],
   "source": []
  }
 ],
 "metadata": {
  "kernelspec": {
   "display_name": "Python 3 (ipykernel)",
   "language": "python",
   "name": "python3"
  },
  "language_info": {
   "codemirror_mode": {
    "name": "ipython",
    "version": 3
   },
   "file_extension": ".py",
   "mimetype": "text/x-python",
   "name": "python",
   "nbconvert_exporter": "python",
   "pygments_lexer": "ipython3",
   "version": "3.8.12"
  }
 },
 "nbformat": 4,
 "nbformat_minor": 5
}
