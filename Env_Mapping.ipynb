{
 "cells": [
  {
   "cell_type": "markdown",
   "id": "1103fcbd",
   "metadata": {},
   "source": [
    "# Environmental Mapping Playground"
   ]
  },
  {
   "cell_type": "code",
   "execution_count": 11,
   "id": "3d62f236",
   "metadata": {},
   "outputs": [],
   "source": [
    "import os\n",
    "import geemap\n",
    "import numpy as np\n",
    "import geopandas as gpd"
   ]
  },
  {
   "cell_type": "code",
   "execution_count": 2,
   "id": "ec47c026",
   "metadata": {},
   "outputs": [],
   "source": [
    "nh_center = [43.78699687528447, -71.51658744025995]\n",
    "nh_zoom = 8"
   ]
  },
  {
   "cell_type": "code",
   "execution_count": 5,
   "id": "aefcbcaf",
   "metadata": {},
   "outputs": [],
   "source": [
    "# m1 = geemap.Map(center=nh_center, zoom=nh_zoom)\n",
    "# m1.add_basemap(\"HYBRID\")\n",
    "# hydro_url = \"https://basemap.nationalmap.gov/arcgis/services/USGSHydroCached/MapServer/WMSServer?\"\n",
    "# m1.add_wms_layer(url=hydro_url,\n",
    "#                  layers=\"0\",  # Find all options in XML\n",
    "#                  name=\"USGS Hydro\",\n",
    "#                  format=\"image/png\",\n",
    "#                  shown=True)\n",
    "# m1"
   ]
  },
  {
   "cell_type": "code",
   "execution_count": 4,
   "id": "9aa7970f",
   "metadata": {
    "scrolled": false
   },
   "outputs": [
    {
     "data": {
      "application/vnd.jupyter.widget-view+json": {
       "model_id": "bca8a8fe6e9e4e8787902001fd98b48f",
       "version_major": 2,
       "version_minor": 0
      },
      "text/plain": [
       "Map(center=[43.78699687528447, -71.51658744025995], controls=(WidgetControl(options=['position', 'transparent_…"
      ]
     },
     "metadata": {},
     "output_type": "display_data"
    }
   ],
   "source": [
    "m = geemap.Map(center=nh_center, zoom=nh_zoom)\n",
    "\n",
    "m.add_basemap(\"HYBRID\")\n",
    "m.add_basemap(\"NLCD 2016 CONUS Land Cover\")\n",
    "m"
   ]
  },
  {
   "cell_type": "markdown",
   "id": "7e4d5c6d",
   "metadata": {},
   "source": [
    "## NH Trails"
   ]
  },
  {
   "cell_type": "code",
   "execution_count": 20,
   "id": "d222f717",
   "metadata": {},
   "outputs": [],
   "source": [
    "filepath = '/Users/heatherkusmierz/Documents/Files/Courses/Geography_Cartography/NH_Trails/GRANIT_20220201162014/'\n",
    "\n",
    "points_path = os.path.join(filepath, 'nhtrails_points.shp')\n",
    "lines_path = os.path.join(filepath, 'nhtrails.shp')"
   ]
  },
  {
   "cell_type": "code",
   "execution_count": 22,
   "id": "a5e02dac",
   "metadata": {},
   "outputs": [],
   "source": [
    "nh_trails_pts = gpd.read_file(points_path)\n",
    "nh_trails = gpd.read_file(lines_path)"
   ]
  },
  {
   "cell_type": "code",
   "execution_count": 13,
   "id": "b4fa8928",
   "metadata": {},
   "outputs": [
    {
     "data": {
      "text/html": [
       "<div>\n",
       "<style scoped>\n",
       "    .dataframe tbody tr th:only-of-type {\n",
       "        vertical-align: middle;\n",
       "    }\n",
       "\n",
       "    .dataframe tbody tr th {\n",
       "        vertical-align: top;\n",
       "    }\n",
       "\n",
       "    .dataframe thead th {\n",
       "        text-align: right;\n",
       "    }\n",
       "</style>\n",
       "<table border=\"1\" class=\"dataframe\">\n",
       "  <thead>\n",
       "    <tr style=\"text-align: right;\">\n",
       "      <th></th>\n",
       "      <th>OBJECTID</th>\n",
       "      <th>TYPE</th>\n",
       "      <th>POINAME</th>\n",
       "      <th>NOTES</th>\n",
       "      <th>geometry</th>\n",
       "    </tr>\n",
       "  </thead>\n",
       "  <tbody>\n",
       "    <tr>\n",
       "      <th>0</th>\n",
       "      <td>1</td>\n",
       "      <td>Parking</td>\n",
       "      <td>None</td>\n",
       "      <td>None</td>\n",
       "      <td>POINT (820189.772 435001.368)</td>\n",
       "    </tr>\n",
       "    <tr>\n",
       "      <th>1</th>\n",
       "      <td>2</td>\n",
       "      <td>Shelter</td>\n",
       "      <td>None</td>\n",
       "      <td>None</td>\n",
       "      <td>POINT (925740.922 545624.824)</td>\n",
       "    </tr>\n",
       "    <tr>\n",
       "      <th>2</th>\n",
       "      <td>3</td>\n",
       "      <td>Shelter</td>\n",
       "      <td>Garfield Shelter</td>\n",
       "      <td>None</td>\n",
       "      <td>POINT (999551.772 616224.551)</td>\n",
       "    </tr>\n",
       "    <tr>\n",
       "      <th>3</th>\n",
       "      <td>4</td>\n",
       "      <td>Shelter</td>\n",
       "      <td>None</td>\n",
       "      <td>None</td>\n",
       "      <td>POINT (886406.780 483274.609)</td>\n",
       "    </tr>\n",
       "    <tr>\n",
       "      <th>4</th>\n",
       "      <td>5</td>\n",
       "      <td>Shelter</td>\n",
       "      <td>None</td>\n",
       "      <td>None</td>\n",
       "      <td>POINT (946212.081 558785.194)</td>\n",
       "    </tr>\n",
       "  </tbody>\n",
       "</table>\n",
       "</div>"
      ],
      "text/plain": [
       "   OBJECTID     TYPE           POINAME NOTES                       geometry\n",
       "0         1  Parking              None  None  POINT (820189.772 435001.368)\n",
       "1         2  Shelter              None  None  POINT (925740.922 545624.824)\n",
       "2         3  Shelter  Garfield Shelter  None  POINT (999551.772 616224.551)\n",
       "3         4  Shelter              None  None  POINT (886406.780 483274.609)\n",
       "4         5  Shelter              None  None  POINT (946212.081 558785.194)"
      ]
     },
     "execution_count": 13,
     "metadata": {},
     "output_type": "execute_result"
    }
   ],
   "source": [
    "nh_trails_pts.head()"
   ]
  },
  {
   "cell_type": "code",
   "execution_count": 14,
   "id": "9cd2b0ef",
   "metadata": {},
   "outputs": [
    {
     "name": "stdout",
     "output_type": "stream",
     "text": [
      "<class 'geopandas.geodataframe.GeoDataFrame'>\n",
      "RangeIndex: 2654 entries, 0 to 2653\n",
      "Data columns (total 5 columns):\n",
      " #   Column    Non-Null Count  Dtype   \n",
      "---  ------    --------------  -----   \n",
      " 0   OBJECTID  2654 non-null   int64   \n",
      " 1   TYPE      2654 non-null   object  \n",
      " 2   POINAME   337 non-null    object  \n",
      " 3   NOTES     58 non-null     object  \n",
      " 4   geometry  2654 non-null   geometry\n",
      "dtypes: geometry(1), int64(1), object(3)\n",
      "memory usage: 103.8+ KB\n"
     ]
    }
   ],
   "source": [
    "nh_trails_pts.info()"
   ]
  },
  {
   "cell_type": "code",
   "execution_count": 15,
   "id": "ed8bd4d1",
   "metadata": {},
   "outputs": [
    {
     "data": {
      "text/plain": [
       "<Derived Projected CRS: PROJCS[\"NAD83(2011) / New Hampshire (ftUS)\",GEOGCS ...>\n",
       "Name: NAD83(2011) / New Hampshire (ftUS)\n",
       "Axis Info [cartesian]:\n",
       "- [east]: Easting (US survey foot)\n",
       "- [north]: Northing (US survey foot)\n",
       "Area of Use:\n",
       "- undefined\n",
       "Coordinate Operation:\n",
       "- name: unnamed\n",
       "- method: Transverse Mercator\n",
       "Datum: NAD83 (National Spatial Reference System 2011)\n",
       "- Ellipsoid: GRS 1980\n",
       "- Prime Meridian: Greenwich"
      ]
     },
     "execution_count": 15,
     "metadata": {},
     "output_type": "execute_result"
    }
   ],
   "source": [
    "nh_trails_pts.crs"
   ]
  },
  {
   "cell_type": "code",
   "execution_count": 23,
   "id": "ae3bf567",
   "metadata": {},
   "outputs": [
    {
     "data": {
      "text/html": [
       "<div>\n",
       "<style scoped>\n",
       "    .dataframe tbody tr th:only-of-type {\n",
       "        vertical-align: middle;\n",
       "    }\n",
       "\n",
       "    .dataframe tbody tr th {\n",
       "        vertical-align: top;\n",
       "    }\n",
       "\n",
       "    .dataframe thead th {\n",
       "        text-align: right;\n",
       "    }\n",
       "</style>\n",
       "<table border=\"1\" class=\"dataframe\">\n",
       "  <thead>\n",
       "    <tr style=\"text-align: right;\">\n",
       "      <th></th>\n",
       "      <th>OBJECTID</th>\n",
       "      <th>TRAIL</th>\n",
       "      <th>TRAILNAME</th>\n",
       "      <th>TRAILSYS</th>\n",
       "      <th>COMMUNITY</th>\n",
       "      <th>MILES</th>\n",
       "      <th>BLAZE</th>\n",
       "      <th>MAINTORG</th>\n",
       "      <th>NOTES</th>\n",
       "      <th>PED</th>\n",
       "      <th>...</th>\n",
       "      <th>PAVED</th>\n",
       "      <th>GROOMED</th>\n",
       "      <th>ADA</th>\n",
       "      <th>WIDE</th>\n",
       "      <th>SEP_PATH</th>\n",
       "      <th>ALPINESKI</th>\n",
       "      <th>ACCURACY</th>\n",
       "      <th>MAPURL</th>\n",
       "      <th>SHAPE_Leng</th>\n",
       "      <th>geometry</th>\n",
       "    </tr>\n",
       "  </thead>\n",
       "  <tbody>\n",
       "    <tr>\n",
       "      <th>0</th>\n",
       "      <td>1</td>\n",
       "      <td>Y</td>\n",
       "      <td>48T</td>\n",
       "      <td>Drummer Hill and Goose Pond</td>\n",
       "      <td>Keene</td>\n",
       "      <td>0.454302</td>\n",
       "      <td>None</td>\n",
       "      <td>0</td>\n",
       "      <td>None</td>\n",
       "      <td>1</td>\n",
       "      <td>...</td>\n",
       "      <td>None</td>\n",
       "      <td>None</td>\n",
       "      <td>None</td>\n",
       "      <td>None</td>\n",
       "      <td>None</td>\n",
       "      <td>None</td>\n",
       "      <td>1</td>\n",
       "      <td>https://www.trailfinder.info/trails/trail/drum...</td>\n",
       "      <td>2398.715561</td>\n",
       "      <td>LINESTRING (821048.071 176910.411, 821012.921 ...</td>\n",
       "    </tr>\n",
       "    <tr>\n",
       "      <th>1</th>\n",
       "      <td>2</td>\n",
       "      <td>Y</td>\n",
       "      <td>A-Z Trail</td>\n",
       "      <td>White Mountain National Forest</td>\n",
       "      <td>Bethlehem</td>\n",
       "      <td>3.331851</td>\n",
       "      <td>None</td>\n",
       "      <td>50110</td>\n",
       "      <td>None</td>\n",
       "      <td>1</td>\n",
       "      <td>...</td>\n",
       "      <td>None</td>\n",
       "      <td>None</td>\n",
       "      <td>None</td>\n",
       "      <td>None</td>\n",
       "      <td>None</td>\n",
       "      <td>None</td>\n",
       "      <td>2</td>\n",
       "      <td>https://www.fs.usda.gov/activity/whitemountain...</td>\n",
       "      <td>17592.174000</td>\n",
       "      <td>LINESTRING (1030488.429 619271.548, 1030518.71...</td>\n",
       "    </tr>\n",
       "    <tr>\n",
       "      <th>2</th>\n",
       "      <td>3</td>\n",
       "      <td>Y</td>\n",
       "      <td>Abanaki Quad</td>\n",
       "      <td>Attitash/Bear Peak</td>\n",
       "      <td>Bartlett</td>\n",
       "      <td>0.891730</td>\n",
       "      <td>None</td>\n",
       "      <td>0</td>\n",
       "      <td>None</td>\n",
       "      <td>1</td>\n",
       "      <td>...</td>\n",
       "      <td>None</td>\n",
       "      <td>None</td>\n",
       "      <td>None</td>\n",
       "      <td>1</td>\n",
       "      <td>None</td>\n",
       "      <td>1</td>\n",
       "      <td>3</td>\n",
       "      <td>None</td>\n",
       "      <td>4708.331831</td>\n",
       "      <td>LINESTRING (1096078.672 576494.409, 1096075.00...</td>\n",
       "    </tr>\n",
       "    <tr>\n",
       "      <th>3</th>\n",
       "      <td>4</td>\n",
       "      <td>Y</td>\n",
       "      <td>Abbott Brook Rd</td>\n",
       "      <td>None</td>\n",
       "      <td>Atkinson &amp; Gilmanton</td>\n",
       "      <td>3.759935</td>\n",
       "      <td>None</td>\n",
       "      <td>0</td>\n",
       "      <td>None</td>\n",
       "      <td>None</td>\n",
       "      <td>...</td>\n",
       "      <td>None</td>\n",
       "      <td>None</td>\n",
       "      <td>None</td>\n",
       "      <td>1</td>\n",
       "      <td>None</td>\n",
       "      <td>None</td>\n",
       "      <td>2</td>\n",
       "      <td>None</td>\n",
       "      <td>19852.458011</td>\n",
       "      <td>LINESTRING (1128608.984 904400.132, 1128604.01...</td>\n",
       "    </tr>\n",
       "    <tr>\n",
       "      <th>4</th>\n",
       "      <td>5</td>\n",
       "      <td>Y</td>\n",
       "      <td>Abbott Brook Rd</td>\n",
       "      <td>None</td>\n",
       "      <td>Atkinson &amp; Gilmanton</td>\n",
       "      <td>0.192031</td>\n",
       "      <td>None</td>\n",
       "      <td>0</td>\n",
       "      <td>None</td>\n",
       "      <td>1</td>\n",
       "      <td>...</td>\n",
       "      <td>None</td>\n",
       "      <td>None</td>\n",
       "      <td>None</td>\n",
       "      <td>1</td>\n",
       "      <td>None</td>\n",
       "      <td>None</td>\n",
       "      <td>2</td>\n",
       "      <td>None</td>\n",
       "      <td>1013.922527</td>\n",
       "      <td>LINESTRING (1128610.233 903409.426, 1128607.76...</td>\n",
       "    </tr>\n",
       "  </tbody>\n",
       "</table>\n",
       "<p>5 rows × 28 columns</p>\n",
       "</div>"
      ],
      "text/plain": [
       "   OBJECTID TRAIL        TRAILNAME                        TRAILSYS  \\\n",
       "0         1     Y              48T     Drummer Hill and Goose Pond   \n",
       "1         2     Y        A-Z Trail  White Mountain National Forest   \n",
       "2         3     Y     Abanaki Quad              Attitash/Bear Peak   \n",
       "3         4     Y  Abbott Brook Rd                            None   \n",
       "4         5     Y  Abbott Brook Rd                            None   \n",
       "\n",
       "              COMMUNITY     MILES BLAZE  MAINTORG NOTES   PED  ... PAVED  \\\n",
       "0                 Keene  0.454302  None         0  None     1  ...  None   \n",
       "1             Bethlehem  3.331851  None     50110  None     1  ...  None   \n",
       "2              Bartlett  0.891730  None         0  None     1  ...  None   \n",
       "3  Atkinson & Gilmanton  3.759935  None         0  None  None  ...  None   \n",
       "4  Atkinson & Gilmanton  0.192031  None         0  None     1  ...  None   \n",
       "\n",
       "  GROOMED   ADA  WIDE SEP_PATH ALPINESKI ACCURACY  \\\n",
       "0    None  None  None     None      None        1   \n",
       "1    None  None  None     None      None        2   \n",
       "2    None  None     1     None         1        3   \n",
       "3    None  None     1     None      None        2   \n",
       "4    None  None     1     None      None        2   \n",
       "\n",
       "                                              MAPURL    SHAPE_Leng  \\\n",
       "0  https://www.trailfinder.info/trails/trail/drum...   2398.715561   \n",
       "1  https://www.fs.usda.gov/activity/whitemountain...  17592.174000   \n",
       "2                                               None   4708.331831   \n",
       "3                                               None  19852.458011   \n",
       "4                                               None   1013.922527   \n",
       "\n",
       "                                            geometry  \n",
       "0  LINESTRING (821048.071 176910.411, 821012.921 ...  \n",
       "1  LINESTRING (1030488.429 619271.548, 1030518.71...  \n",
       "2  LINESTRING (1096078.672 576494.409, 1096075.00...  \n",
       "3  LINESTRING (1128608.984 904400.132, 1128604.01...  \n",
       "4  LINESTRING (1128610.233 903409.426, 1128607.76...  \n",
       "\n",
       "[5 rows x 28 columns]"
      ]
     },
     "execution_count": 23,
     "metadata": {},
     "output_type": "execute_result"
    }
   ],
   "source": [
    "nh_trails.head()"
   ]
  },
  {
   "cell_type": "code",
   "execution_count": 24,
   "id": "fad5b97c",
   "metadata": {},
   "outputs": [
    {
     "name": "stdout",
     "output_type": "stream",
     "text": [
      "<class 'geopandas.geodataframe.GeoDataFrame'>\n",
      "RangeIndex: 19877 entries, 0 to 19876\n",
      "Data columns (total 28 columns):\n",
      " #   Column      Non-Null Count  Dtype   \n",
      "---  ------      --------------  -----   \n",
      " 0   OBJECTID    19877 non-null  int64   \n",
      " 1   TRAIL       19877 non-null  object  \n",
      " 2   TRAILNAME   6849 non-null   object  \n",
      " 3   TRAILSYS    10881 non-null  object  \n",
      " 4   COMMUNITY   19877 non-null  object  \n",
      " 5   MILES       19877 non-null  float64 \n",
      " 6   BLAZE       274 non-null    object  \n",
      " 7   MAINTORG    19877 non-null  int64   \n",
      " 8   NOTES       194 non-null    object  \n",
      " 9   PED         10071 non-null  object  \n",
      " 10  MTNBIKE     1021 non-null   object  \n",
      " 11  ROADBIKE    20 non-null     object  \n",
      " 12  XCSKI       1056 non-null   object  \n",
      " 13  SNOWMBL     3765 non-null   object  \n",
      " 14  ATV         320 non-null    object  \n",
      " 15  DIRTBIKE    0 non-null      object  \n",
      " 16  HORSE       605 non-null    object  \n",
      " 17  PADDLE      0 non-null      object  \n",
      " 18  PAVED       0 non-null      object  \n",
      " 19  GROOMED     0 non-null      object  \n",
      " 20  ADA         3 non-null      object  \n",
      " 21  WIDE        9615 non-null   object  \n",
      " 22  SEP_PATH    0 non-null      object  \n",
      " 23  ALPINESKI   2210 non-null   object  \n",
      " 24  ACCURACY    19877 non-null  int64   \n",
      " 25  MAPURL      5890 non-null   object  \n",
      " 26  SHAPE_Leng  19877 non-null  float64 \n",
      " 27  geometry    19877 non-null  geometry\n",
      "dtypes: float64(2), geometry(1), int64(3), object(22)\n",
      "memory usage: 4.2+ MB\n"
     ]
    }
   ],
   "source": [
    "nh_trails.info()"
   ]
  },
  {
   "cell_type": "code",
   "execution_count": 25,
   "id": "95119431",
   "metadata": {},
   "outputs": [
    {
     "data": {
      "text/plain": [
       "<Derived Projected CRS: PROJCS[\"NAD83(2011) / New Hampshire (ftUS)\",GEOGCS ...>\n",
       "Name: NAD83(2011) / New Hampshire (ftUS)\n",
       "Axis Info [cartesian]:\n",
       "- [east]: Easting (US survey foot)\n",
       "- [north]: Northing (US survey foot)\n",
       "Area of Use:\n",
       "- undefined\n",
       "Coordinate Operation:\n",
       "- name: unnamed\n",
       "- method: Transverse Mercator\n",
       "Datum: NAD83 (National Spatial Reference System 2011)\n",
       "- Ellipsoid: GRS 1980\n",
       "- Prime Meridian: Greenwich"
      ]
     },
     "execution_count": 25,
     "metadata": {},
     "output_type": "execute_result"
    }
   ],
   "source": [
    "nh_trails.crs"
   ]
  }
 ],
 "metadata": {
  "kernelspec": {
   "display_name": "Python 3 (ipykernel)",
   "language": "python",
   "name": "python3"
  },
  "language_info": {
   "codemirror_mode": {
    "name": "ipython",
    "version": 3
   },
   "file_extension": ".py",
   "mimetype": "text/x-python",
   "name": "python",
   "nbconvert_exporter": "python",
   "pygments_lexer": "ipython3",
   "version": "3.8.12"
  }
 },
 "nbformat": 4,
 "nbformat_minor": 5
}
